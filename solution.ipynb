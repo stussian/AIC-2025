{
 "cells": [
  {
   "cell_type": "code",
   "execution_count": null,
   "metadata": {},
   "outputs": [
    {
     "name": "stderr",
     "output_type": "stream",
     "text": [
      "Обработка графов:   3%|▎         | 1/30 [00:00<00:09,  3.06it/s]"
     ]
    },
    {
     "name": "stdout",
     "output_type": "stream",
     "text": [
      "Граф 1: Лучшая энергия = -208.00\n"
     ]
    },
    {
     "name": "stderr",
     "output_type": "stream",
     "text": [
      "Обработка графов:   7%|▋         | 2/30 [00:00<00:11,  2.38it/s]"
     ]
    },
    {
     "name": "stdout",
     "output_type": "stream",
     "text": [
      "Граф 2: Лучшая энергия = -192.00\n"
     ]
    },
    {
     "name": "stderr",
     "output_type": "stream",
     "text": [
      "Обработка графов:  10%|█         | 3/30 [00:01<00:11,  2.43it/s]"
     ]
    },
    {
     "name": "stdout",
     "output_type": "stream",
     "text": [
      "Граф 3: Лучшая энергия = -198.00\n"
     ]
    },
    {
     "name": "stderr",
     "output_type": "stream",
     "text": [
      "Обработка графов:  13%|█▎        | 4/30 [00:01<00:08,  2.91it/s]"
     ]
    },
    {
     "name": "stdout",
     "output_type": "stream",
     "text": [
      "Граф 4: Лучшая энергия = -197.00\n"
     ]
    },
    {
     "name": "stderr",
     "output_type": "stream",
     "text": [
      "Обработка графов:  17%|█▋        | 5/30 [00:01<00:10,  2.50it/s]"
     ]
    },
    {
     "name": "stdout",
     "output_type": "stream",
     "text": [
      "Граф 5: Лучшая энергия = -179.00\n"
     ]
    },
    {
     "name": "stderr",
     "output_type": "stream",
     "text": [
      "Обработка графов:  20%|██        | 6/30 [00:02<00:11,  2.13it/s]"
     ]
    },
    {
     "name": "stdout",
     "output_type": "stream",
     "text": [
      "Граф 6: Лучшая энергия = -192.00\n"
     ]
    },
    {
     "name": "stderr",
     "output_type": "stream",
     "text": [
      "Обработка графов:  23%|██▎       | 7/30 [00:03<00:12,  1.82it/s]"
     ]
    },
    {
     "name": "stdout",
     "output_type": "stream",
     "text": [
      "Граф 7: Лучшая энергия = -193.00\n"
     ]
    },
    {
     "name": "stderr",
     "output_type": "stream",
     "text": [
      "Обработка графов:  27%|██▋       | 8/30 [00:03<00:11,  1.96it/s]"
     ]
    },
    {
     "name": "stdout",
     "output_type": "stream",
     "text": [
      "Граф 8: Лучшая энергия = -197.00\n"
     ]
    },
    {
     "name": "stderr",
     "output_type": "stream",
     "text": [
      "Обработка графов:  30%|███       | 9/30 [00:04<00:09,  2.16it/s]"
     ]
    },
    {
     "name": "stdout",
     "output_type": "stream",
     "text": [
      "Граф 9: Лучшая энергия = -180.00\n"
     ]
    },
    {
     "name": "stderr",
     "output_type": "stream",
     "text": [
      "Обработка графов:  33%|███▎      | 10/30 [00:04<00:08,  2.29it/s]"
     ]
    },
    {
     "name": "stdout",
     "output_type": "stream",
     "text": [
      "Граф 10: Лучшая энергия = -201.00\n"
     ]
    },
    {
     "name": "stderr",
     "output_type": "stream",
     "text": [
      "Обработка графов:  37%|███▋      | 11/30 [00:04<00:07,  2.43it/s]"
     ]
    },
    {
     "name": "stdout",
     "output_type": "stream",
     "text": [
      "Граф 11: Лучшая энергия = -178.00\n"
     ]
    },
    {
     "name": "stderr",
     "output_type": "stream",
     "text": [
      "Обработка графов:  40%|████      | 12/30 [00:05<00:07,  2.50it/s]"
     ]
    },
    {
     "name": "stdout",
     "output_type": "stream",
     "text": [
      "Граф 12: Лучшая энергия = -190.00\n"
     ]
    },
    {
     "name": "stderr",
     "output_type": "stream",
     "text": [
      "Обработка графов:  43%|████▎     | 13/30 [00:05<00:07,  2.31it/s]"
     ]
    },
    {
     "name": "stdout",
     "output_type": "stream",
     "text": [
      "Граф 13: Лучшая энергия = -191.00\n"
     ]
    },
    {
     "name": "stderr",
     "output_type": "stream",
     "text": [
      "Обработка графов:  47%|████▋     | 14/30 [00:06<00:06,  2.29it/s]"
     ]
    },
    {
     "name": "stdout",
     "output_type": "stream",
     "text": [
      "Граф 14: Лучшая энергия = -210.00\n"
     ]
    },
    {
     "name": "stderr",
     "output_type": "stream",
     "text": [
      "Обработка графов:  50%|█████     | 15/30 [00:06<00:06,  2.42it/s]"
     ]
    },
    {
     "name": "stdout",
     "output_type": "stream",
     "text": [
      "Граф 15: Лучшая энергия = -213.00\n"
     ]
    },
    {
     "name": "stderr",
     "output_type": "stream",
     "text": [
      "Обработка графов:  53%|█████▎    | 16/30 [00:06<00:06,  2.31it/s]"
     ]
    },
    {
     "name": "stdout",
     "output_type": "stream",
     "text": [
      "Граф 16: Лучшая энергия = -184.00\n"
     ]
    },
    {
     "name": "stderr",
     "output_type": "stream",
     "text": [
      "Обработка графов:  57%|█████▋    | 17/30 [00:07<00:06,  2.00it/s]"
     ]
    },
    {
     "name": "stdout",
     "output_type": "stream",
     "text": [
      "Граф 17: Лучшая энергия = -204.00\n"
     ]
    },
    {
     "name": "stderr",
     "output_type": "stream",
     "text": [
      "Обработка графов:  60%|██████    | 18/30 [00:08<00:05,  2.05it/s]"
     ]
    },
    {
     "name": "stdout",
     "output_type": "stream",
     "text": [
      "Граф 18: Лучшая энергия = -208.00\n"
     ]
    },
    {
     "name": "stderr",
     "output_type": "stream",
     "text": [
      "Обработка графов:  63%|██████▎   | 19/30 [00:08<00:04,  2.24it/s]"
     ]
    },
    {
     "name": "stdout",
     "output_type": "stream",
     "text": [
      "Граф 19: Лучшая энергия = -190.00\n"
     ]
    },
    {
     "name": "stderr",
     "output_type": "stream",
     "text": [
      "Обработка графов:  67%|██████▋   | 20/30 [00:08<00:04,  2.20it/s]"
     ]
    },
    {
     "name": "stdout",
     "output_type": "stream",
     "text": [
      "Граф 20: Лучшая энергия = -198.00\n"
     ]
    },
    {
     "name": "stderr",
     "output_type": "stream",
     "text": [
      "Обработка графов:  70%|███████   | 21/30 [00:09<00:04,  2.20it/s]"
     ]
    },
    {
     "name": "stdout",
     "output_type": "stream",
     "text": [
      "Граф 21: Лучшая энергия = -206.00\n"
     ]
    },
    {
     "name": "stderr",
     "output_type": "stream",
     "text": [
      "Обработка графов:  73%|███████▎  | 22/30 [00:09<00:03,  2.26it/s]"
     ]
    },
    {
     "name": "stdout",
     "output_type": "stream",
     "text": [
      "Граф 22: Лучшая энергия = -188.00\n"
     ]
    },
    {
     "name": "stderr",
     "output_type": "stream",
     "text": [
      "Обработка графов:  77%|███████▋  | 23/30 [00:10<00:03,  2.22it/s]"
     ]
    },
    {
     "name": "stdout",
     "output_type": "stream",
     "text": [
      "Граф 23: Лучшая энергия = -180.00\n"
     ]
    },
    {
     "name": "stderr",
     "output_type": "stream",
     "text": [
      "Обработка графов:  80%|████████  | 24/30 [00:10<00:02,  2.42it/s]"
     ]
    },
    {
     "name": "stdout",
     "output_type": "stream",
     "text": [
      "Граф 24: Лучшая энергия = -183.00\n"
     ]
    },
    {
     "name": "stderr",
     "output_type": "stream",
     "text": [
      "Обработка графов:  83%|████████▎ | 25/30 [00:11<00:02,  2.29it/s]"
     ]
    },
    {
     "name": "stdout",
     "output_type": "stream",
     "text": [
      "Граф 25: Лучшая энергия = -182.00\n"
     ]
    },
    {
     "name": "stderr",
     "output_type": "stream",
     "text": [
      "Обработка графов:  87%|████████▋ | 26/30 [00:11<00:01,  2.37it/s]"
     ]
    },
    {
     "name": "stdout",
     "output_type": "stream",
     "text": [
      "Граф 26: Лучшая энергия = -214.00\n"
     ]
    },
    {
     "name": "stderr",
     "output_type": "stream",
     "text": [
      "Обработка графов:  90%|█████████ | 27/30 [00:11<00:01,  2.28it/s]"
     ]
    },
    {
     "name": "stdout",
     "output_type": "stream",
     "text": [
      "Граф 27: Лучшая энергия = -167.00\n"
     ]
    },
    {
     "name": "stderr",
     "output_type": "stream",
     "text": [
      "Обработка графов:  93%|█████████▎| 28/30 [00:12<00:00,  2.38it/s]"
     ]
    },
    {
     "name": "stdout",
     "output_type": "stream",
     "text": [
      "Граф 28: Лучшая энергия = -172.00\n"
     ]
    },
    {
     "name": "stderr",
     "output_type": "stream",
     "text": [
      "Обработка графов:  97%|█████████▋| 29/30 [00:12<00:00,  2.54it/s]"
     ]
    },
    {
     "name": "stdout",
     "output_type": "stream",
     "text": [
      "Граф 29: Лучшая энергия = -188.00\n"
     ]
    },
    {
     "name": "stderr",
     "output_type": "stream",
     "text": [
      "Обработка графов: 100%|██████████| 30/30 [00:13<00:00,  2.27it/s]"
     ]
    },
    {
     "name": "stdout",
     "output_type": "stream",
     "text": [
      "Граф 30: Лучшая энергия = -209.00\n",
      "\n",
      "Средняя энергия: -193.07\n"
     ]
    },
    {
     "name": "stderr",
     "output_type": "stream",
     "text": [
      "\n"
     ]
    }
   ],
   "source": [
    "# # tree евристика\n",
    "# if __name__ == \"__main__\":\n",
    "#     import numpy as np\n",
    "#     import pandas as pd\n",
    "#     from tqdm import tqdm\n",
    "#     from river import tree\n",
    "#     import random\n",
    "\n",
    "#     # Фиксация глобальных сидов\n",
    "#     GLOBAL_SEED = 42\n",
    "#     np.random.seed(GLOBAL_SEED)\n",
    "#     random.seed(GLOBAL_SEED)\n",
    "\n",
    "#     class IsingEnvironment:\n",
    "#         def __init__(self, J, seed=None):\n",
    "#             self.J = J\n",
    "#             self.N = J.shape[0]\n",
    "#             self.rng = np.random.RandomState(seed)\n",
    "#             self.state = self.rng.choice([-1, 1], size=self.N)\n",
    "#             self.no_improvement_streak = 0\n",
    "            \n",
    "#             # Инициализация лучшего состояния и энергии\n",
    "#             self.best_energy = self.calculate_energy(self.state)\n",
    "#             self.best_state = self.state.copy()\n",
    "#             # Текущая энергия для инкрементальных обновлений\n",
    "#             self.energy = self.best_energy\n",
    "        \n",
    "#         def calculate_energy(self, spins):\n",
    "#             return -np.sum(np.triu(self.J * np.outer(spins, spins)))\n",
    "        \n",
    "#         def delta_energy_if_flip(self, i):\n",
    "#             # ΔE = 2 * s_i * sum_j J_ij s_j\n",
    "#             return 2.0 * self.state[i] * np.dot(self.J[i], self.state)\n",
    "        \n",
    "#         def flip_spin(self, i):\n",
    "#             # Быстрый инкрементальный пересчет энергии\n",
    "#             delta_energy = self.delta_energy_if_flip(i)\n",
    "#             # Награда: нормированный минус ΔE (лучше, когда ΔE отрицательно)\n",
    "#             max_delta = 2.0 * np.sum(np.abs(self.J[i])) + 1e-9\n",
    "#             reward = (-delta_energy) / max_delta\n",
    "            \n",
    "#             # Штраф за отсутствие улучшений\n",
    "#             if delta_energy >= 0:\n",
    "#                 self.no_improvement_streak += 1\n",
    "#                 reward -= 0.01 * self.no_improvement_streak\n",
    "#             else:\n",
    "#                 self.no_improvement_streak = 0\n",
    "            \n",
    "#             # Применяем переворот и обновляем энергию\n",
    "#             self.state[i] *= -1\n",
    "#             self.energy += delta_energy\n",
    "            \n",
    "#             # Обновление лучшего состояния\n",
    "#             if self.energy < self.best_energy:\n",
    "#                 self.best_energy = self.energy\n",
    "#                 self.best_state = self.state.copy()\n",
    "                \n",
    "#             return reward\n",
    "        \n",
    "#         def get_state(self):\n",
    "#             return tuple(self.state)\n",
    "        \n",
    "#         def get_best_state(self):\n",
    "#             return self.best_state.copy()\n",
    "        \n",
    "#         def greedy_polish(self, max_steps=None):\n",
    "#             # Жадная локальная оптимизация по наилучшему улучшению\n",
    "#             steps_budget = max_steps if max_steps is not None else 2 * self.N\n",
    "#             for _ in range(steps_budget):\n",
    "#                 interaction = self.J @ self.state\n",
    "#                 deltas = 2.0 * self.state * interaction\n",
    "#                 i_best = int(np.argmin(deltas))\n",
    "#                 if deltas[i_best] < 0:\n",
    "#                     # Применить лучший переворот\n",
    "#                     self.state[i_best] *= -1\n",
    "#                     self.energy += deltas[i_best]\n",
    "#                     if self.energy < self.best_energy:\n",
    "#                         self.best_energy = self.energy\n",
    "#                         self.best_state = self.state.copy()\n",
    "#                 else:\n",
    "#                     break\n",
    "\n",
    "#     class TreeQAgent:\n",
    "#         def __init__(self, env, gamma=0.95, \n",
    "#                     initial_temp=1.0, final_temp=0.01, \n",
    "#                     temp_decay_rate=0.9995, seed=None):\n",
    "#             self.env = env\n",
    "#             self.gamma = gamma\n",
    "#             self.temperature = initial_temp\n",
    "#             self.final_temp = final_temp\n",
    "#             self.temp_decay_rate = temp_decay_rate\n",
    "#             self.N = env.N\n",
    "            \n",
    "#             self.rng = np.random.RandomState(seed)\n",
    "#             # Упрощенный скейлер (только смещение)\n",
    "#             self.mean = np.zeros(self.N)\n",
    "#             self.n_seen = 0\n",
    "            \n",
    "#             # Инициализация моделей Hoeffding Tree\n",
    "#             self.q_models = [\n",
    "#                 tree.HoeffdingTreeRegressor(\n",
    "#                     grace_period=100,\n",
    "#                     max_depth=10\n",
    "#                 ) for i in range(self.N)\n",
    "#             ]\n",
    "        \n",
    "#         def _state_to_dict(self, state):\n",
    "#             \"\"\"Преобразует вектор состояния в словарь признаков.\"\"\"\n",
    "#             state = np.array(state)\n",
    "#             state_shifted = state - self.mean\n",
    "#             return {f'x{i}': val for i, val in enumerate(state_shifted)}\n",
    "        \n",
    "#         def update_scaler(self, state):\n",
    "#             \"\"\"Инкрементальное обновление скейлера (только среднее).\"\"\"\n",
    "#             state = np.array(state)\n",
    "#             self.n_seen += 1\n",
    "#             self.mean += (state - self.mean) / self.n_seen\n",
    "        \n",
    "#         def get_q_values(self, state):\n",
    "#             state_dict = self._state_to_dict(state)\n",
    "#             q_vals = []\n",
    "#             for model in self.q_models:\n",
    "#                 pred = model.predict_one(state_dict)\n",
    "#                 q_vals.append(pred if pred is not None else 0.0)\n",
    "#             return np.array(q_vals)\n",
    "        \n",
    "#         def get_epsilon(self):\n",
    "#             return 0.25 + 0.75 * (self.temperature - self.final_temp) / (1.0 - self.final_temp)\n",
    "        \n",
    "#         def choose_action(self, state):\n",
    "#             state = np.array(state).flatten()\n",
    "            \n",
    "#             if len(state) != self.env.J.shape[0]:\n",
    "#                 return np.random.randint(0, self.env.N)\n",
    "            \n",
    "#             # Физическая эвристика\n",
    "#             try:\n",
    "#                 interaction = np.dot(self.env.J, state)\n",
    "#                 local_contrib = -2 * state * interaction\n",
    "#             except:\n",
    "#                 local_contrib = np.zeros(self.N)\n",
    "            \n",
    "#             # Предсказание Q-значений\n",
    "#             try:\n",
    "#                 q_values = self.get_q_values(state)\n",
    "#             except:\n",
    "#                 q_values = np.zeros(self.N)\n",
    "            \n",
    "#             # Комбинируем с небольшим весом эвристики\n",
    "#             combined = q_values + 0.15 * local_contrib\n",
    "            \n",
    "#             # ε-greedy\n",
    "#             if self.rng.random() < self.get_epsilon():\n",
    "#                 return self.rng.randint(0, self.N)\n",
    "#             else:\n",
    "#                 return int(np.argmax(combined))\n",
    "        \n",
    "#         def learn(self, episodes=1000, patience=None):\n",
    "#             no_improve = 0\n",
    "#             best_seen = self.env.best_energy\n",
    "#             if patience is None:\n",
    "#                 patience = 3 * self.N\n",
    "#             for episode in range(episodes):\n",
    "#                 self.temperature = max(self.final_temp, self.temperature * self.temp_decay_rate)\n",
    "                \n",
    "#                 state = self.env.get_state()\n",
    "#                 action = self.choose_action(state)\n",
    "#                 reward = self.env.flip_spin(action)\n",
    "#                 next_state = self.env.get_state()\n",
    "                \n",
    "#                 # Обновляем скейлер\n",
    "#                 self.update_scaler(state)\n",
    "                \n",
    "#                 # Вычисляем цель для Q-обучения\n",
    "#                 next_q = self.get_q_values(next_state)\n",
    "#                 target = reward + self.gamma * np.max(next_q)\n",
    "                \n",
    "#                 # Обучаем модель выбранного действия\n",
    "#                 state_dict = self._state_to_dict(state)\n",
    "#                 self.q_models[action].learn_one(state_dict, target)\n",
    "                \n",
    "#                 # Ранний останов, если нет улучшений\n",
    "#                 if self.env.best_energy < best_seen:\n",
    "#                     best_seen = self.env.best_energy\n",
    "#                     no_improve = 0\n",
    "#                 else:\n",
    "#                     no_improve += 1\n",
    "#                     if no_improve >= patience:\n",
    "#                         break\n",
    "\n",
    "\n",
    "# if __name__ == \"__main__\":\n",
    "#     J_all = np.load(\"test_matrices.npy\")[:30]\n",
    "#     all_spins = []\n",
    "#     all_energies = []\n",
    "    \n",
    "#     base_seed = GLOBAL_SEED\n",
    "#     for idx, J in enumerate(tqdm(J_all, desc=\"Обработка графов\")):\n",
    "#         graph_seed = base_seed + idx\n",
    "        \n",
    "#         # Несколько перезапусков с разными инициализациями\n",
    "#         restarts = 3\n",
    "#         best_energy_run = np.inf\n",
    "#         best_state_run = None\n",
    "#         for r in range(restarts):\n",
    "#             seed_r = graph_seed + 1000 * r\n",
    "#             env = IsingEnvironment(J, seed=seed_r)\n",
    "#             agent = TreeQAgent(env, gamma=0.95,\n",
    "#                                initial_temp=1.0, final_temp=0.01, \n",
    "#                                temp_decay_rate=0.9995, seed=seed_r)\n",
    "            \n",
    "#             # Обучаем агента (меньше эпизодов, но с полировкой и ранним остановом)\n",
    "#             agent.learn(episodes=3000, patience=2 * env.N)\n",
    "#             env.greedy_polish(max_steps=2 * env.N)\n",
    "            \n",
    "#             if env.best_energy < best_energy_run:\n",
    "#                 best_energy_run = env.best_energy\n",
    "#                 best_state_run = env.get_best_state()\n",
    "        \n",
    "#         # Используем лучший результат среди перезапусков\n",
    "#         all_spins.append(best_state_run)\n",
    "#         all_energies.append(best_energy_run)\n",
    "#         print(f\"Граф {idx+1}: Лучшая энергия = {best_energy_run:.2f}\")\n",
    "    \n",
    "#     mean_energy = np.mean(all_energies)\n",
    "#     print(f\"\\nСредняя энергия: {mean_energy:.2f}\")"
   ]
  },
  {
   "cell_type": "code",
   "execution_count": 3,
   "metadata": {},
   "outputs": [
    {
     "name": "stderr",
     "output_type": "stream",
     "text": [
      "SA: Обработка графов:   0%|          | 1/200 [00:02<08:55,  2.69s/it]"
     ]
    },
    {
     "name": "stdout",
     "output_type": "stream",
     "text": [
      "SA Граф 1: Лучшая энергия = -216.000000\n"
     ]
    },
    {
     "name": "stderr",
     "output_type": "stream",
     "text": [
      "SA: Обработка графов:   1%|          | 2/200 [00:05<08:54,  2.70s/it]"
     ]
    },
    {
     "name": "stdout",
     "output_type": "stream",
     "text": [
      "SA Граф 2: Лучшая энергия = -208.000000\n"
     ]
    },
    {
     "name": "stderr",
     "output_type": "stream",
     "text": [
      "SA: Обработка графов:   2%|▏         | 3/200 [00:08<08:53,  2.71s/it]"
     ]
    },
    {
     "name": "stdout",
     "output_type": "stream",
     "text": [
      "SA Граф 3: Лучшая энергия = -204.000000\n"
     ]
    },
    {
     "name": "stderr",
     "output_type": "stream",
     "text": [
      "SA: Обработка графов:   2%|▏         | 4/200 [00:10<08:54,  2.73s/it]"
     ]
    },
    {
     "name": "stdout",
     "output_type": "stream",
     "text": [
      "SA Граф 4: Лучшая энергия = -213.000000\n"
     ]
    },
    {
     "name": "stderr",
     "output_type": "stream",
     "text": [
      "SA: Обработка графов:   2%|▎         | 5/200 [00:13<08:56,  2.75s/it]"
     ]
    },
    {
     "name": "stdout",
     "output_type": "stream",
     "text": [
      "SA Граф 5: Лучшая энергия = -209.000000\n"
     ]
    },
    {
     "name": "stderr",
     "output_type": "stream",
     "text": [
      "SA: Обработка графов:   3%|▎         | 6/200 [00:16<08:50,  2.73s/it]"
     ]
    },
    {
     "name": "stdout",
     "output_type": "stream",
     "text": [
      "SA Граф 6: Лучшая энергия = -204.000000\n"
     ]
    },
    {
     "name": "stderr",
     "output_type": "stream",
     "text": [
      "SA: Обработка графов:   4%|▎         | 7/200 [00:19<08:52,  2.76s/it]"
     ]
    },
    {
     "name": "stdout",
     "output_type": "stream",
     "text": [
      "SA Граф 7: Лучшая энергия = -217.000000\n"
     ]
    },
    {
     "name": "stderr",
     "output_type": "stream",
     "text": [
      "SA: Обработка графов:   4%|▍         | 8/200 [00:21<08:46,  2.74s/it]"
     ]
    },
    {
     "name": "stdout",
     "output_type": "stream",
     "text": [
      "SA Граф 8: Лучшая энергия = -203.000000\n"
     ]
    },
    {
     "name": "stderr",
     "output_type": "stream",
     "text": [
      "SA: Обработка графов:   4%|▍         | 9/200 [00:24<08:43,  2.74s/it]"
     ]
    },
    {
     "name": "stdout",
     "output_type": "stream",
     "text": [
      "SA Граф 9: Лучшая энергия = -198.000000\n"
     ]
    },
    {
     "name": "stderr",
     "output_type": "stream",
     "text": [
      "SA: Обработка графов:   5%|▌         | 10/200 [00:27<08:44,  2.76s/it]"
     ]
    },
    {
     "name": "stdout",
     "output_type": "stream",
     "text": [
      "SA Граф 10: Лучшая энергия = -201.000000\n"
     ]
    },
    {
     "name": "stderr",
     "output_type": "stream",
     "text": [
      "SA: Обработка графов:   6%|▌         | 11/200 [00:30<08:38,  2.74s/it]"
     ]
    },
    {
     "name": "stdout",
     "output_type": "stream",
     "text": [
      "SA Граф 11: Лучшая энергия = -222.000000\n"
     ]
    },
    {
     "name": "stderr",
     "output_type": "stream",
     "text": [
      "SA: Обработка графов:   6%|▌         | 12/200 [00:32<08:33,  2.73s/it]"
     ]
    },
    {
     "name": "stdout",
     "output_type": "stream",
     "text": [
      "SA Граф 12: Лучшая энергия = -192.000000\n"
     ]
    },
    {
     "name": "stderr",
     "output_type": "stream",
     "text": [
      "SA: Обработка графов:   6%|▋         | 13/200 [00:35<08:28,  2.72s/it]"
     ]
    },
    {
     "name": "stdout",
     "output_type": "stream",
     "text": [
      "SA Граф 13: Лучшая энергия = -201.000000\n"
     ]
    },
    {
     "name": "stderr",
     "output_type": "stream",
     "text": [
      "SA: Обработка графов:   7%|▋         | 14/200 [00:38<08:25,  2.72s/it]"
     ]
    },
    {
     "name": "stdout",
     "output_type": "stream",
     "text": [
      "SA Граф 14: Лучшая энергия = -214.000000\n"
     ]
    },
    {
     "name": "stderr",
     "output_type": "stream",
     "text": [
      "SA: Обработка графов:   8%|▊         | 15/200 [00:40<08:21,  2.71s/it]"
     ]
    },
    {
     "name": "stdout",
     "output_type": "stream",
     "text": [
      "SA Граф 15: Лучшая энергия = -213.000000\n"
     ]
    },
    {
     "name": "stderr",
     "output_type": "stream",
     "text": [
      "SA: Обработка графов:   8%|▊         | 16/200 [00:43<08:20,  2.72s/it]"
     ]
    },
    {
     "name": "stdout",
     "output_type": "stream",
     "text": [
      "SA Граф 16: Лучшая энергия = -194.000000\n"
     ]
    },
    {
     "name": "stderr",
     "output_type": "stream",
     "text": [
      "SA: Обработка графов:   8%|▊         | 17/200 [00:46<08:16,  2.71s/it]"
     ]
    },
    {
     "name": "stdout",
     "output_type": "stream",
     "text": [
      "SA Граф 17: Лучшая энергия = -208.000000\n"
     ]
    },
    {
     "name": "stderr",
     "output_type": "stream",
     "text": [
      "SA: Обработка графов:   9%|▉         | 18/200 [00:49<08:14,  2.72s/it]"
     ]
    },
    {
     "name": "stdout",
     "output_type": "stream",
     "text": [
      "SA Граф 18: Лучшая энергия = -212.000000\n"
     ]
    },
    {
     "name": "stderr",
     "output_type": "stream",
     "text": [
      "SA: Обработка графов:  10%|▉         | 19/200 [00:51<08:09,  2.71s/it]"
     ]
    },
    {
     "name": "stdout",
     "output_type": "stream",
     "text": [
      "SA Граф 19: Лучшая энергия = -202.000000\n"
     ]
    },
    {
     "name": "stderr",
     "output_type": "stream",
     "text": [
      "SA: Обработка графов:  10%|█         | 20/200 [00:54<08:07,  2.71s/it]"
     ]
    },
    {
     "name": "stdout",
     "output_type": "stream",
     "text": [
      "SA Граф 20: Лучшая энергия = -204.000000\n"
     ]
    },
    {
     "name": "stderr",
     "output_type": "stream",
     "text": [
      "SA: Обработка графов:  10%|█         | 21/200 [00:57<08:06,  2.72s/it]"
     ]
    },
    {
     "name": "stdout",
     "output_type": "stream",
     "text": [
      "SA Граф 21: Лучшая энергия = -208.000000\n"
     ]
    },
    {
     "name": "stderr",
     "output_type": "stream",
     "text": [
      "SA: Обработка графов:  11%|█         | 22/200 [00:59<08:02,  2.71s/it]"
     ]
    },
    {
     "name": "stdout",
     "output_type": "stream",
     "text": [
      "SA Граф 22: Лучшая энергия = -198.000000\n"
     ]
    },
    {
     "name": "stderr",
     "output_type": "stream",
     "text": [
      "SA: Обработка графов:  12%|█▏        | 23/200 [01:02<08:01,  2.72s/it]"
     ]
    },
    {
     "name": "stdout",
     "output_type": "stream",
     "text": [
      "SA Граф 23: Лучшая энергия = -212.000000\n"
     ]
    },
    {
     "name": "stderr",
     "output_type": "stream",
     "text": [
      "SA: Обработка графов:  12%|█▏        | 24/200 [01:05<07:57,  2.72s/it]"
     ]
    },
    {
     "name": "stdout",
     "output_type": "stream",
     "text": [
      "SA Граф 24: Лучшая энергия = -197.000000\n"
     ]
    },
    {
     "name": "stderr",
     "output_type": "stream",
     "text": [
      "SA: Обработка графов:  12%|█▎        | 25/200 [01:08<07:55,  2.72s/it]"
     ]
    },
    {
     "name": "stdout",
     "output_type": "stream",
     "text": [
      "SA Граф 25: Лучшая энергия = -194.000000\n"
     ]
    },
    {
     "name": "stderr",
     "output_type": "stream",
     "text": [
      "SA: Обработка графов:  13%|█▎        | 26/200 [01:10<07:52,  2.72s/it]"
     ]
    },
    {
     "name": "stdout",
     "output_type": "stream",
     "text": [
      "SA Граф 26: Лучшая энергия = -214.000000\n"
     ]
    },
    {
     "name": "stderr",
     "output_type": "stream",
     "text": [
      "SA: Обработка графов:  14%|█▎        | 27/200 [01:13<07:50,  2.72s/it]"
     ]
    },
    {
     "name": "stdout",
     "output_type": "stream",
     "text": [
      "SA Граф 27: Лучшая энергия = -199.000000\n"
     ]
    },
    {
     "name": "stderr",
     "output_type": "stream",
     "text": [
      "SA: Обработка графов:  14%|█▍        | 28/200 [01:16<07:47,  2.72s/it]"
     ]
    },
    {
     "name": "stdout",
     "output_type": "stream",
     "text": [
      "SA Граф 28: Лучшая энергия = -202.000000\n"
     ]
    },
    {
     "name": "stderr",
     "output_type": "stream",
     "text": [
      "SA: Обработка графов:  14%|█▍        | 29/200 [01:18<07:41,  2.70s/it]"
     ]
    },
    {
     "name": "stdout",
     "output_type": "stream",
     "text": [
      "SA Граф 29: Лучшая энергия = -204.000000\n"
     ]
    },
    {
     "name": "stderr",
     "output_type": "stream",
     "text": [
      "SA: Обработка графов:  15%|█▌        | 30/200 [01:21<07:38,  2.70s/it]"
     ]
    },
    {
     "name": "stdout",
     "output_type": "stream",
     "text": [
      "SA Граф 30: Лучшая энергия = -209.000000\n"
     ]
    },
    {
     "name": "stderr",
     "output_type": "stream",
     "text": [
      "SA: Обработка графов:  16%|█▌        | 31/200 [01:24<07:37,  2.71s/it]"
     ]
    },
    {
     "name": "stdout",
     "output_type": "stream",
     "text": [
      "SA Граф 31: Лучшая энергия = -198.000000\n"
     ]
    },
    {
     "name": "stderr",
     "output_type": "stream",
     "text": [
      "SA: Обработка графов:  16%|█▌        | 32/200 [01:27<07:35,  2.71s/it]"
     ]
    },
    {
     "name": "stdout",
     "output_type": "stream",
     "text": [
      "SA Граф 32: Лучшая энергия = -194.000000\n"
     ]
    },
    {
     "name": "stderr",
     "output_type": "stream",
     "text": [
      "SA: Обработка графов:  16%|█▋        | 33/200 [01:29<07:32,  2.71s/it]"
     ]
    },
    {
     "name": "stdout",
     "output_type": "stream",
     "text": [
      "SA Граф 33: Лучшая энергия = -201.000000\n"
     ]
    },
    {
     "name": "stderr",
     "output_type": "stream",
     "text": [
      "SA: Обработка графов:  17%|█▋        | 34/200 [01:32<07:28,  2.70s/it]"
     ]
    },
    {
     "name": "stdout",
     "output_type": "stream",
     "text": [
      "SA Граф 34: Лучшая энергия = -199.000000\n"
     ]
    },
    {
     "name": "stderr",
     "output_type": "stream",
     "text": [
      "SA: Обработка графов:  18%|█▊        | 35/200 [01:35<07:27,  2.71s/it]"
     ]
    },
    {
     "name": "stdout",
     "output_type": "stream",
     "text": [
      "SA Граф 35: Лучшая энергия = -205.000000\n"
     ]
    },
    {
     "name": "stderr",
     "output_type": "stream",
     "text": [
      "SA: Обработка графов:  18%|█▊        | 36/200 [01:37<07:24,  2.71s/it]"
     ]
    },
    {
     "name": "stdout",
     "output_type": "stream",
     "text": [
      "SA Граф 36: Лучшая энергия = -207.000000\n"
     ]
    },
    {
     "name": "stderr",
     "output_type": "stream",
     "text": [
      "SA: Обработка графов:  18%|█▊        | 37/200 [01:40<07:23,  2.72s/it]"
     ]
    },
    {
     "name": "stdout",
     "output_type": "stream",
     "text": [
      "SA Граф 37: Лучшая энергия = -210.000000\n"
     ]
    },
    {
     "name": "stderr",
     "output_type": "stream",
     "text": [
      "SA: Обработка графов:  19%|█▉        | 38/200 [01:43<07:18,  2.71s/it]"
     ]
    },
    {
     "name": "stdout",
     "output_type": "stream",
     "text": [
      "SA Граф 38: Лучшая энергия = -203.000000\n"
     ]
    },
    {
     "name": "stderr",
     "output_type": "stream",
     "text": [
      "SA: Обработка графов:  20%|█▉        | 39/200 [01:45<07:14,  2.70s/it]"
     ]
    },
    {
     "name": "stdout",
     "output_type": "stream",
     "text": [
      "SA Граф 39: Лучшая энергия = -222.000000\n"
     ]
    },
    {
     "name": "stderr",
     "output_type": "stream",
     "text": [
      "SA: Обработка графов:  20%|██        | 40/200 [01:48<07:12,  2.71s/it]"
     ]
    },
    {
     "name": "stdout",
     "output_type": "stream",
     "text": [
      "SA Граф 40: Лучшая энергия = -211.000000\n"
     ]
    },
    {
     "name": "stderr",
     "output_type": "stream",
     "text": [
      "SA: Обработка графов:  20%|██        | 41/200 [01:51<07:11,  2.72s/it]"
     ]
    },
    {
     "name": "stdout",
     "output_type": "stream",
     "text": [
      "SA Граф 41: Лучшая энергия = -211.000000\n"
     ]
    },
    {
     "name": "stderr",
     "output_type": "stream",
     "text": [
      "SA: Обработка графов:  21%|██        | 42/200 [01:54<07:08,  2.71s/it]"
     ]
    },
    {
     "name": "stdout",
     "output_type": "stream",
     "text": [
      "SA Граф 42: Лучшая энергия = -207.000000\n"
     ]
    },
    {
     "name": "stderr",
     "output_type": "stream",
     "text": [
      "SA: Обработка графов:  22%|██▏       | 43/200 [01:56<07:04,  2.70s/it]"
     ]
    },
    {
     "name": "stdout",
     "output_type": "stream",
     "text": [
      "SA Граф 43: Лучшая энергия = -215.000000\n"
     ]
    },
    {
     "name": "stderr",
     "output_type": "stream",
     "text": [
      "SA: Обработка графов:  22%|██▏       | 44/200 [01:59<07:02,  2.71s/it]"
     ]
    },
    {
     "name": "stdout",
     "output_type": "stream",
     "text": [
      "SA Граф 44: Лучшая энергия = -194.000000\n"
     ]
    },
    {
     "name": "stderr",
     "output_type": "stream",
     "text": [
      "SA: Обработка графов:  22%|██▎       | 45/200 [02:02<07:01,  2.72s/it]"
     ]
    },
    {
     "name": "stdout",
     "output_type": "stream",
     "text": [
      "SA Граф 45: Лучшая энергия = -202.000000\n"
     ]
    },
    {
     "name": "stderr",
     "output_type": "stream",
     "text": [
      "SA: Обработка графов:  23%|██▎       | 46/200 [02:05<06:59,  2.72s/it]"
     ]
    },
    {
     "name": "stdout",
     "output_type": "stream",
     "text": [
      "SA Граф 46: Лучшая энергия = -219.000000\n"
     ]
    },
    {
     "name": "stderr",
     "output_type": "stream",
     "text": [
      "SA: Обработка графов:  24%|██▎       | 47/200 [02:07<06:59,  2.74s/it]"
     ]
    },
    {
     "name": "stdout",
     "output_type": "stream",
     "text": [
      "SA Граф 47: Лучшая энергия = -213.000000\n"
     ]
    },
    {
     "name": "stderr",
     "output_type": "stream",
     "text": [
      "SA: Обработка графов:  24%|██▍       | 48/200 [02:10<07:04,  2.79s/it]"
     ]
    },
    {
     "name": "stdout",
     "output_type": "stream",
     "text": [
      "SA Граф 48: Лучшая энергия = -199.000000\n"
     ]
    },
    {
     "name": "stderr",
     "output_type": "stream",
     "text": [
      "SA: Обработка графов:  24%|██▍       | 49/200 [02:13<06:58,  2.77s/it]"
     ]
    },
    {
     "name": "stdout",
     "output_type": "stream",
     "text": [
      "SA Граф 49: Лучшая энергия = -213.000000\n"
     ]
    },
    {
     "name": "stderr",
     "output_type": "stream",
     "text": [
      "SA: Обработка графов:  25%|██▌       | 50/200 [02:16<06:54,  2.77s/it]"
     ]
    },
    {
     "name": "stdout",
     "output_type": "stream",
     "text": [
      "SA Граф 50: Лучшая энергия = -186.000000\n"
     ]
    },
    {
     "name": "stderr",
     "output_type": "stream",
     "text": [
      "SA: Обработка графов:  26%|██▌       | 51/200 [02:18<06:49,  2.75s/it]"
     ]
    },
    {
     "name": "stdout",
     "output_type": "stream",
     "text": [
      "SA Граф 51: Лучшая энергия = -201.000000\n"
     ]
    },
    {
     "name": "stderr",
     "output_type": "stream",
     "text": [
      "SA: Обработка графов:  26%|██▌       | 52/200 [02:21<06:46,  2.74s/it]"
     ]
    },
    {
     "name": "stdout",
     "output_type": "stream",
     "text": [
      "SA Граф 52: Лучшая энергия = -201.000000\n"
     ]
    },
    {
     "name": "stderr",
     "output_type": "stream",
     "text": [
      "SA: Обработка графов:  26%|██▋       | 53/200 [02:24<06:48,  2.78s/it]"
     ]
    },
    {
     "name": "stdout",
     "output_type": "stream",
     "text": [
      "SA Граф 53: Лучшая энергия = -210.000000\n"
     ]
    },
    {
     "name": "stderr",
     "output_type": "stream",
     "text": [
      "SA: Обработка графов:  27%|██▋       | 54/200 [02:27<06:47,  2.79s/it]"
     ]
    },
    {
     "name": "stdout",
     "output_type": "stream",
     "text": [
      "SA Граф 54: Лучшая энергия = -202.000000\n"
     ]
    },
    {
     "name": "stderr",
     "output_type": "stream",
     "text": [
      "SA: Обработка графов:  28%|██▊       | 55/200 [02:30<06:41,  2.77s/it]"
     ]
    },
    {
     "name": "stdout",
     "output_type": "stream",
     "text": [
      "SA Граф 55: Лучшая энергия = -202.000000\n"
     ]
    },
    {
     "name": "stderr",
     "output_type": "stream",
     "text": [
      "SA: Обработка графов:  28%|██▊       | 56/200 [02:32<06:36,  2.75s/it]"
     ]
    },
    {
     "name": "stdout",
     "output_type": "stream",
     "text": [
      "SA Граф 56: Лучшая энергия = -208.000000\n"
     ]
    },
    {
     "name": "stderr",
     "output_type": "stream",
     "text": [
      "SA: Обработка графов:  28%|██▊       | 57/200 [02:35<06:32,  2.74s/it]"
     ]
    },
    {
     "name": "stdout",
     "output_type": "stream",
     "text": [
      "SA Граф 57: Лучшая энергия = -205.000000\n"
     ]
    },
    {
     "name": "stderr",
     "output_type": "stream",
     "text": [
      "SA: Обработка графов:  29%|██▉       | 58/200 [02:38<06:31,  2.76s/it]"
     ]
    },
    {
     "name": "stdout",
     "output_type": "stream",
     "text": [
      "SA Граф 58: Лучшая энергия = -202.000000\n"
     ]
    },
    {
     "name": "stderr",
     "output_type": "stream",
     "text": [
      "SA: Обработка графов:  30%|██▉       | 59/200 [02:41<06:28,  2.76s/it]"
     ]
    },
    {
     "name": "stdout",
     "output_type": "stream",
     "text": [
      "SA Граф 59: Лучшая энергия = -198.000000\n"
     ]
    },
    {
     "name": "stderr",
     "output_type": "stream",
     "text": [
      "SA: Обработка графов:  30%|███       | 60/200 [02:43<06:24,  2.74s/it]"
     ]
    },
    {
     "name": "stdout",
     "output_type": "stream",
     "text": [
      "SA Граф 60: Лучшая энергия = -209.000000\n"
     ]
    },
    {
     "name": "stderr",
     "output_type": "stream",
     "text": [
      "SA: Обработка графов:  30%|███       | 61/200 [02:46<06:22,  2.75s/it]"
     ]
    },
    {
     "name": "stdout",
     "output_type": "stream",
     "text": [
      "SA Граф 61: Лучшая энергия = -205.000000\n"
     ]
    },
    {
     "name": "stderr",
     "output_type": "stream",
     "text": [
      "SA: Обработка графов:  31%|███       | 62/200 [02:49<06:18,  2.74s/it]"
     ]
    },
    {
     "name": "stdout",
     "output_type": "stream",
     "text": [
      "SA Граф 62: Лучшая энергия = -194.000000\n"
     ]
    },
    {
     "name": "stderr",
     "output_type": "stream",
     "text": [
      "SA: Обработка графов:  32%|███▏      | 63/200 [02:51<06:13,  2.72s/it]"
     ]
    },
    {
     "name": "stdout",
     "output_type": "stream",
     "text": [
      "SA Граф 63: Лучшая энергия = -213.000000\n"
     ]
    },
    {
     "name": "stderr",
     "output_type": "stream",
     "text": [
      "SA: Обработка графов:  32%|███▏      | 64/200 [02:54<06:15,  2.76s/it]"
     ]
    },
    {
     "name": "stdout",
     "output_type": "stream",
     "text": [
      "SA Граф 64: Лучшая энергия = -199.000000\n"
     ]
    },
    {
     "name": "stderr",
     "output_type": "stream",
     "text": [
      "SA: Обработка графов:  32%|███▎      | 65/200 [02:57<06:09,  2.74s/it]"
     ]
    },
    {
     "name": "stdout",
     "output_type": "stream",
     "text": [
      "SA Граф 65: Лучшая энергия = -192.000000\n"
     ]
    },
    {
     "name": "stderr",
     "output_type": "stream",
     "text": [
      "SA: Обработка графов:  33%|███▎      | 66/200 [03:00<06:04,  2.72s/it]"
     ]
    },
    {
     "name": "stdout",
     "output_type": "stream",
     "text": [
      "SA Граф 66: Лучшая энергия = -202.000000\n"
     ]
    },
    {
     "name": "stderr",
     "output_type": "stream",
     "text": [
      "SA: Обработка графов:  34%|███▎      | 67/200 [03:02<06:02,  2.72s/it]"
     ]
    },
    {
     "name": "stdout",
     "output_type": "stream",
     "text": [
      "SA Граф 67: Лучшая энергия = -200.000000\n"
     ]
    },
    {
     "name": "stderr",
     "output_type": "stream",
     "text": [
      "SA: Обработка графов:  34%|███▍      | 68/200 [03:05<05:59,  2.72s/it]"
     ]
    },
    {
     "name": "stdout",
     "output_type": "stream",
     "text": [
      "SA Граф 68: Лучшая энергия = -208.000000\n"
     ]
    },
    {
     "name": "stderr",
     "output_type": "stream",
     "text": [
      "SA: Обработка графов:  34%|███▍      | 69/200 [03:08<06:02,  2.76s/it]"
     ]
    },
    {
     "name": "stdout",
     "output_type": "stream",
     "text": [
      "SA Граф 69: Лучшая энергия = -207.000000\n"
     ]
    },
    {
     "name": "stderr",
     "output_type": "stream",
     "text": [
      "SA: Обработка графов:  35%|███▌      | 70/200 [03:11<05:57,  2.75s/it]"
     ]
    },
    {
     "name": "stdout",
     "output_type": "stream",
     "text": [
      "SA Граф 70: Лучшая энергия = -220.000000\n"
     ]
    },
    {
     "name": "stderr",
     "output_type": "stream",
     "text": [
      "SA: Обработка графов:  36%|███▌      | 71/200 [03:13<05:51,  2.73s/it]"
     ]
    },
    {
     "name": "stdout",
     "output_type": "stream",
     "text": [
      "SA Граф 71: Лучшая энергия = -207.000000\n"
     ]
    },
    {
     "name": "stderr",
     "output_type": "stream",
     "text": [
      "SA: Обработка графов:  36%|███▌      | 72/200 [03:16<05:46,  2.71s/it]"
     ]
    },
    {
     "name": "stdout",
     "output_type": "stream",
     "text": [
      "SA Граф 72: Лучшая энергия = -210.000000\n"
     ]
    },
    {
     "name": "stderr",
     "output_type": "stream",
     "text": [
      "SA: Обработка графов:  36%|███▋      | 73/200 [03:19<05:45,  2.72s/it]"
     ]
    },
    {
     "name": "stdout",
     "output_type": "stream",
     "text": [
      "SA Граф 73: Лучшая энергия = -197.000000\n"
     ]
    },
    {
     "name": "stderr",
     "output_type": "stream",
     "text": [
      "SA: Обработка графов:  37%|███▋      | 74/200 [03:22<05:45,  2.74s/it]"
     ]
    },
    {
     "name": "stdout",
     "output_type": "stream",
     "text": [
      "SA Граф 74: Лучшая энергия = -204.000000\n"
     ]
    },
    {
     "name": "stderr",
     "output_type": "stream",
     "text": [
      "SA: Обработка графов:  38%|███▊      | 75/200 [03:24<05:47,  2.78s/it]"
     ]
    },
    {
     "name": "stdout",
     "output_type": "stream",
     "text": [
      "SA Граф 75: Лучшая энергия = -215.000000\n"
     ]
    },
    {
     "name": "stderr",
     "output_type": "stream",
     "text": [
      "SA: Обработка графов:  38%|███▊      | 76/200 [03:27<05:42,  2.77s/it]"
     ]
    },
    {
     "name": "stdout",
     "output_type": "stream",
     "text": [
      "SA Граф 76: Лучшая энергия = -208.000000\n"
     ]
    },
    {
     "name": "stderr",
     "output_type": "stream",
     "text": [
      "SA: Обработка графов:  38%|███▊      | 77/200 [03:30<05:38,  2.75s/it]"
     ]
    },
    {
     "name": "stdout",
     "output_type": "stream",
     "text": [
      "SA Граф 77: Лучшая энергия = -203.000000\n"
     ]
    },
    {
     "name": "stderr",
     "output_type": "stream",
     "text": [
      "SA: Обработка графов:  39%|███▉      | 78/200 [03:33<05:34,  2.74s/it]"
     ]
    },
    {
     "name": "stdout",
     "output_type": "stream",
     "text": [
      "SA Граф 78: Лучшая энергия = -206.000000\n"
     ]
    },
    {
     "name": "stderr",
     "output_type": "stream",
     "text": [
      "SA: Обработка графов:  40%|███▉      | 79/200 [03:35<05:31,  2.74s/it]"
     ]
    },
    {
     "name": "stdout",
     "output_type": "stream",
     "text": [
      "SA Граф 79: Лучшая энергия = -230.000000\n"
     ]
    },
    {
     "name": "stderr",
     "output_type": "stream",
     "text": [
      "SA: Обработка графов:  40%|████      | 80/200 [03:38<05:30,  2.76s/it]"
     ]
    },
    {
     "name": "stdout",
     "output_type": "stream",
     "text": [
      "SA Граф 80: Лучшая энергия = -208.000000\n"
     ]
    },
    {
     "name": "stderr",
     "output_type": "stream",
     "text": [
      "SA: Обработка графов:  40%|████      | 81/200 [03:41<05:26,  2.75s/it]"
     ]
    },
    {
     "name": "stdout",
     "output_type": "stream",
     "text": [
      "SA Граф 81: Лучшая энергия = -207.000000\n"
     ]
    },
    {
     "name": "stderr",
     "output_type": "stream",
     "text": [
      "SA: Обработка графов:  41%|████      | 82/200 [03:44<05:23,  2.74s/it]"
     ]
    },
    {
     "name": "stdout",
     "output_type": "stream",
     "text": [
      "SA Граф 82: Лучшая энергия = -201.000000\n"
     ]
    },
    {
     "name": "stderr",
     "output_type": "stream",
     "text": [
      "SA: Обработка графов:  42%|████▏     | 83/200 [03:46<05:21,  2.75s/it]"
     ]
    },
    {
     "name": "stdout",
     "output_type": "stream",
     "text": [
      "SA Граф 83: Лучшая энергия = -185.000000\n"
     ]
    },
    {
     "name": "stderr",
     "output_type": "stream",
     "text": [
      "SA: Обработка графов:  42%|████▏     | 84/200 [03:49<05:18,  2.75s/it]"
     ]
    },
    {
     "name": "stdout",
     "output_type": "stream",
     "text": [
      "SA Граф 84: Лучшая энергия = -191.000000\n"
     ]
    },
    {
     "name": "stderr",
     "output_type": "stream",
     "text": [
      "SA: Обработка графов:  42%|████▎     | 85/200 [03:52<05:15,  2.74s/it]"
     ]
    },
    {
     "name": "stdout",
     "output_type": "stream",
     "text": [
      "SA Граф 85: Лучшая энергия = -197.000000\n"
     ]
    },
    {
     "name": "stderr",
     "output_type": "stream",
     "text": [
      "SA: Обработка графов:  43%|████▎     | 86/200 [03:55<05:14,  2.76s/it]"
     ]
    },
    {
     "name": "stdout",
     "output_type": "stream",
     "text": [
      "SA Граф 86: Лучшая энергия = -203.000000\n"
     ]
    },
    {
     "name": "stderr",
     "output_type": "stream",
     "text": [
      "SA: Обработка графов:  44%|████▎     | 87/200 [03:57<05:10,  2.75s/it]"
     ]
    },
    {
     "name": "stdout",
     "output_type": "stream",
     "text": [
      "SA Граф 87: Лучшая энергия = -200.000000\n"
     ]
    },
    {
     "name": "stderr",
     "output_type": "stream",
     "text": [
      "SA: Обработка графов:  44%|████▍     | 88/200 [04:00<05:10,  2.77s/it]"
     ]
    },
    {
     "name": "stdout",
     "output_type": "stream",
     "text": [
      "SA Граф 88: Лучшая энергия = -201.000000\n"
     ]
    },
    {
     "name": "stderr",
     "output_type": "stream",
     "text": [
      "SA: Обработка графов:  44%|████▍     | 89/200 [04:03<05:06,  2.76s/it]"
     ]
    },
    {
     "name": "stdout",
     "output_type": "stream",
     "text": [
      "SA Граф 89: Лучшая энергия = -198.000000\n"
     ]
    },
    {
     "name": "stderr",
     "output_type": "stream",
     "text": [
      "SA: Обработка графов:  45%|████▌     | 90/200 [04:06<05:04,  2.77s/it]"
     ]
    },
    {
     "name": "stdout",
     "output_type": "stream",
     "text": [
      "SA Граф 90: Лучшая энергия = -196.000000\n"
     ]
    },
    {
     "name": "stderr",
     "output_type": "stream",
     "text": [
      "SA: Обработка графов:  46%|████▌     | 91/200 [04:09<05:06,  2.81s/it]"
     ]
    },
    {
     "name": "stdout",
     "output_type": "stream",
     "text": [
      "SA Граф 91: Лучшая энергия = -221.000000\n"
     ]
    },
    {
     "name": "stderr",
     "output_type": "stream",
     "text": [
      "SA: Обработка графов:  46%|████▌     | 92/200 [04:12<05:12,  2.89s/it]"
     ]
    },
    {
     "name": "stdout",
     "output_type": "stream",
     "text": [
      "SA Граф 92: Лучшая энергия = -200.000000\n"
     ]
    },
    {
     "name": "stderr",
     "output_type": "stream",
     "text": [
      "SA: Обработка графов:  46%|████▋     | 93/200 [04:15<05:17,  2.97s/it]"
     ]
    },
    {
     "name": "stdout",
     "output_type": "stream",
     "text": [
      "SA Граф 93: Лучшая энергия = -196.000000\n"
     ]
    },
    {
     "name": "stderr",
     "output_type": "stream",
     "text": [
      "SA: Обработка графов:  47%|████▋     | 94/200 [04:18<05:18,  3.01s/it]"
     ]
    },
    {
     "name": "stdout",
     "output_type": "stream",
     "text": [
      "SA Граф 94: Лучшая энергия = -209.000000\n"
     ]
    },
    {
     "name": "stderr",
     "output_type": "stream",
     "text": [
      "SA: Обработка графов:  48%|████▊     | 95/200 [04:21<05:17,  3.02s/it]"
     ]
    },
    {
     "name": "stdout",
     "output_type": "stream",
     "text": [
      "SA Граф 95: Лучшая энергия = -196.000000\n"
     ]
    },
    {
     "name": "stderr",
     "output_type": "stream",
     "text": [
      "SA: Обработка графов:  48%|████▊     | 96/200 [04:24<05:15,  3.04s/it]"
     ]
    },
    {
     "name": "stdout",
     "output_type": "stream",
     "text": [
      "SA Граф 96: Лучшая энергия = -199.000000\n"
     ]
    },
    {
     "name": "stderr",
     "output_type": "stream",
     "text": [
      "SA: Обработка графов:  48%|████▊     | 97/200 [04:27<05:10,  3.01s/it]"
     ]
    },
    {
     "name": "stdout",
     "output_type": "stream",
     "text": [
      "SA Граф 97: Лучшая энергия = -204.000000\n"
     ]
    },
    {
     "name": "stderr",
     "output_type": "stream",
     "text": [
      "SA: Обработка графов:  49%|████▉     | 98/200 [04:30<05:06,  3.01s/it]"
     ]
    },
    {
     "name": "stdout",
     "output_type": "stream",
     "text": [
      "SA Граф 98: Лучшая энергия = -202.000000\n"
     ]
    },
    {
     "name": "stderr",
     "output_type": "stream",
     "text": [
      "SA: Обработка графов:  50%|████▉     | 99/200 [04:33<05:00,  2.98s/it]"
     ]
    },
    {
     "name": "stdout",
     "output_type": "stream",
     "text": [
      "SA Граф 99: Лучшая энергия = -205.000000\n"
     ]
    },
    {
     "name": "stderr",
     "output_type": "stream",
     "text": [
      "SA: Обработка графов:  50%|█████     | 100/200 [04:36<04:59,  3.00s/it]"
     ]
    },
    {
     "name": "stdout",
     "output_type": "stream",
     "text": [
      "SA Граф 100: Лучшая энергия = -202.000000\n"
     ]
    },
    {
     "name": "stderr",
     "output_type": "stream",
     "text": [
      "SA: Обработка графов:  50%|█████     | 101/200 [04:39<04:55,  2.99s/it]"
     ]
    },
    {
     "name": "stdout",
     "output_type": "stream",
     "text": [
      "SA Граф 101: Лучшая энергия = -198.000000\n"
     ]
    },
    {
     "name": "stderr",
     "output_type": "stream",
     "text": [
      "SA: Обработка графов:  51%|█████     | 102/200 [04:42<04:53,  2.99s/it]"
     ]
    },
    {
     "name": "stdout",
     "output_type": "stream",
     "text": [
      "SA Граф 102: Лучшая энергия = -214.000000\n"
     ]
    },
    {
     "name": "stderr",
     "output_type": "stream",
     "text": [
      "SA: Обработка графов:  52%|█████▏    | 103/200 [04:45<04:48,  2.97s/it]"
     ]
    },
    {
     "name": "stdout",
     "output_type": "stream",
     "text": [
      "SA Граф 103: Лучшая энергия = -204.000000\n"
     ]
    },
    {
     "name": "stderr",
     "output_type": "stream",
     "text": [
      "SA: Обработка графов:  52%|█████▏    | 104/200 [04:48<04:44,  2.96s/it]"
     ]
    },
    {
     "name": "stdout",
     "output_type": "stream",
     "text": [
      "SA Граф 104: Лучшая энергия = -211.000000\n"
     ]
    },
    {
     "name": "stderr",
     "output_type": "stream",
     "text": [
      "SA: Обработка графов:  52%|█████▎    | 105/200 [04:51<04:43,  2.98s/it]"
     ]
    },
    {
     "name": "stdout",
     "output_type": "stream",
     "text": [
      "SA Граф 105: Лучшая энергия = -226.000000\n"
     ]
    },
    {
     "name": "stderr",
     "output_type": "stream",
     "text": [
      "SA: Обработка графов:  53%|█████▎    | 106/200 [04:54<04:40,  2.99s/it]"
     ]
    },
    {
     "name": "stdout",
     "output_type": "stream",
     "text": [
      "SA Граф 106: Лучшая энергия = -201.000000\n"
     ]
    },
    {
     "name": "stderr",
     "output_type": "stream",
     "text": [
      "SA: Обработка графов:  54%|█████▎    | 107/200 [04:57<04:36,  2.98s/it]"
     ]
    },
    {
     "name": "stdout",
     "output_type": "stream",
     "text": [
      "SA Граф 107: Лучшая энергия = -195.000000\n"
     ]
    },
    {
     "name": "stderr",
     "output_type": "stream",
     "text": [
      "SA: Обработка графов:  54%|█████▍    | 108/200 [05:00<04:34,  2.99s/it]"
     ]
    },
    {
     "name": "stdout",
     "output_type": "stream",
     "text": [
      "SA Граф 108: Лучшая энергия = -199.000000\n"
     ]
    },
    {
     "name": "stderr",
     "output_type": "stream",
     "text": [
      "SA: Обработка графов:  55%|█████▍    | 109/200 [05:03<04:30,  2.98s/it]"
     ]
    },
    {
     "name": "stdout",
     "output_type": "stream",
     "text": [
      "SA Граф 109: Лучшая энергия = -203.000000\n"
     ]
    },
    {
     "name": "stderr",
     "output_type": "stream",
     "text": [
      "SA: Обработка графов:  55%|█████▌    | 110/200 [05:06<04:26,  2.96s/it]"
     ]
    },
    {
     "name": "stdout",
     "output_type": "stream",
     "text": [
      "SA Граф 110: Лучшая энергия = -210.000000\n"
     ]
    },
    {
     "name": "stderr",
     "output_type": "stream",
     "text": [
      "SA: Обработка графов:  56%|█████▌    | 111/200 [05:09<04:25,  2.99s/it]"
     ]
    },
    {
     "name": "stdout",
     "output_type": "stream",
     "text": [
      "SA Граф 111: Лучшая энергия = -198.000000\n"
     ]
    },
    {
     "name": "stderr",
     "output_type": "stream",
     "text": [
      "SA: Обработка графов:  56%|█████▌    | 112/200 [05:12<04:22,  2.98s/it]"
     ]
    },
    {
     "name": "stdout",
     "output_type": "stream",
     "text": [
      "SA Граф 112: Лучшая энергия = -210.000000\n"
     ]
    },
    {
     "name": "stderr",
     "output_type": "stream",
     "text": [
      "SA: Обработка графов:  56%|█████▋    | 113/200 [05:15<04:24,  3.04s/it]"
     ]
    },
    {
     "name": "stdout",
     "output_type": "stream",
     "text": [
      "SA Граф 113: Лучшая энергия = -206.000000\n"
     ]
    },
    {
     "name": "stderr",
     "output_type": "stream",
     "text": [
      "SA: Обработка графов:  57%|█████▋    | 114/200 [05:18<04:21,  3.04s/it]"
     ]
    },
    {
     "name": "stdout",
     "output_type": "stream",
     "text": [
      "SA Граф 114: Лучшая энергия = -196.000000\n"
     ]
    },
    {
     "name": "stderr",
     "output_type": "stream",
     "text": [
      "SA: Обработка графов:  57%|█████▊    | 115/200 [05:21<04:17,  3.02s/it]"
     ]
    },
    {
     "name": "stdout",
     "output_type": "stream",
     "text": [
      "SA Граф 115: Лучшая энергия = -215.000000\n"
     ]
    },
    {
     "name": "stderr",
     "output_type": "stream",
     "text": [
      "SA: Обработка графов:  58%|█████▊    | 116/200 [05:24<04:12,  3.01s/it]"
     ]
    },
    {
     "name": "stdout",
     "output_type": "stream",
     "text": [
      "SA Граф 116: Лучшая энергия = -215.000000\n"
     ]
    },
    {
     "name": "stderr",
     "output_type": "stream",
     "text": [
      "SA: Обработка графов:  58%|█████▊    | 117/200 [05:27<04:07,  2.98s/it]"
     ]
    },
    {
     "name": "stdout",
     "output_type": "stream",
     "text": [
      "SA Граф 117: Лучшая энергия = -214.000000\n"
     ]
    },
    {
     "name": "stderr",
     "output_type": "stream",
     "text": [
      "SA: Обработка графов:  59%|█████▉    | 118/200 [05:30<04:05,  2.99s/it]"
     ]
    },
    {
     "name": "stdout",
     "output_type": "stream",
     "text": [
      "SA Граф 118: Лучшая энергия = -210.000000\n"
     ]
    },
    {
     "name": "stderr",
     "output_type": "stream",
     "text": [
      "SA: Обработка графов:  60%|█████▉    | 119/200 [05:33<04:02,  2.99s/it]"
     ]
    },
    {
     "name": "stdout",
     "output_type": "stream",
     "text": [
      "SA Граф 119: Лучшая энергия = -205.000000\n"
     ]
    },
    {
     "name": "stderr",
     "output_type": "stream",
     "text": [
      "SA: Обработка графов:  60%|██████    | 120/200 [05:36<03:58,  2.98s/it]"
     ]
    },
    {
     "name": "stdout",
     "output_type": "stream",
     "text": [
      "SA Граф 120: Лучшая энергия = -206.000000\n"
     ]
    },
    {
     "name": "stderr",
     "output_type": "stream",
     "text": [
      "SA: Обработка графов:  60%|██████    | 121/200 [05:39<03:54,  2.97s/it]"
     ]
    },
    {
     "name": "stdout",
     "output_type": "stream",
     "text": [
      "SA Граф 121: Лучшая энергия = -213.000000\n"
     ]
    },
    {
     "name": "stderr",
     "output_type": "stream",
     "text": [
      "SA: Обработка графов:  61%|██████    | 122/200 [05:42<03:50,  2.95s/it]"
     ]
    },
    {
     "name": "stdout",
     "output_type": "stream",
     "text": [
      "SA Граф 122: Лучшая энергия = -221.000000\n"
     ]
    },
    {
     "name": "stderr",
     "output_type": "stream",
     "text": [
      "SA: Обработка графов:  62%|██████▏   | 123/200 [05:44<03:47,  2.95s/it]"
     ]
    },
    {
     "name": "stdout",
     "output_type": "stream",
     "text": [
      "SA Граф 123: Лучшая энергия = -208.000000\n"
     ]
    },
    {
     "name": "stderr",
     "output_type": "stream",
     "text": [
      "SA: Обработка графов:  62%|██████▏   | 124/200 [05:47<03:44,  2.96s/it]"
     ]
    },
    {
     "name": "stdout",
     "output_type": "stream",
     "text": [
      "SA Граф 124: Лучшая энергия = -210.000000\n"
     ]
    },
    {
     "name": "stderr",
     "output_type": "stream",
     "text": [
      "SA: Обработка графов:  62%|██████▎   | 125/200 [05:50<03:42,  2.96s/it]"
     ]
    },
    {
     "name": "stdout",
     "output_type": "stream",
     "text": [
      "SA Граф 125: Лучшая энергия = -193.000000\n"
     ]
    },
    {
     "name": "stderr",
     "output_type": "stream",
     "text": [
      "SA: Обработка графов:  63%|██████▎   | 126/200 [05:53<03:40,  2.97s/it]"
     ]
    },
    {
     "name": "stdout",
     "output_type": "stream",
     "text": [
      "SA Граф 126: Лучшая энергия = -195.000000\n"
     ]
    },
    {
     "name": "stderr",
     "output_type": "stream",
     "text": [
      "SA: Обработка графов:  64%|██████▎   | 127/200 [05:56<03:36,  2.97s/it]"
     ]
    },
    {
     "name": "stdout",
     "output_type": "stream",
     "text": [
      "SA Граф 127: Лучшая энергия = -214.000000\n"
     ]
    },
    {
     "name": "stderr",
     "output_type": "stream",
     "text": [
      "SA: Обработка графов:  64%|██████▍   | 128/200 [05:59<03:34,  2.98s/it]"
     ]
    },
    {
     "name": "stdout",
     "output_type": "stream",
     "text": [
      "SA Граф 128: Лучшая энергия = -208.000000\n"
     ]
    },
    {
     "name": "stderr",
     "output_type": "stream",
     "text": [
      "SA: Обработка графов:  64%|██████▍   | 129/200 [06:02<03:31,  2.98s/it]"
     ]
    },
    {
     "name": "stdout",
     "output_type": "stream",
     "text": [
      "SA Граф 129: Лучшая энергия = -205.000000\n"
     ]
    },
    {
     "name": "stderr",
     "output_type": "stream",
     "text": [
      "SA: Обработка графов:  65%|██████▌   | 130/200 [06:05<03:27,  2.97s/it]"
     ]
    },
    {
     "name": "stdout",
     "output_type": "stream",
     "text": [
      "SA Граф 130: Лучшая энергия = -211.000000\n"
     ]
    },
    {
     "name": "stderr",
     "output_type": "stream",
     "text": [
      "SA: Обработка графов:  66%|██████▌   | 131/200 [06:08<03:24,  2.97s/it]"
     ]
    },
    {
     "name": "stdout",
     "output_type": "stream",
     "text": [
      "SA Граф 131: Лучшая энергия = -194.000000\n"
     ]
    },
    {
     "name": "stderr",
     "output_type": "stream",
     "text": [
      "SA: Обработка графов:  66%|██████▌   | 132/200 [06:11<03:20,  2.95s/it]"
     ]
    },
    {
     "name": "stdout",
     "output_type": "stream",
     "text": [
      "SA Граф 132: Лучшая энергия = -207.000000\n"
     ]
    },
    {
     "name": "stderr",
     "output_type": "stream",
     "text": [
      "SA: Обработка графов:  66%|██████▋   | 133/200 [06:14<03:16,  2.94s/it]"
     ]
    },
    {
     "name": "stdout",
     "output_type": "stream",
     "text": [
      "SA Граф 133: Лучшая энергия = -208.000000\n"
     ]
    },
    {
     "name": "stderr",
     "output_type": "stream",
     "text": [
      "SA: Обработка графов:  67%|██████▋   | 134/200 [06:17<03:14,  2.94s/it]"
     ]
    },
    {
     "name": "stdout",
     "output_type": "stream",
     "text": [
      "SA Граф 134: Лучшая энергия = -200.000000\n"
     ]
    },
    {
     "name": "stderr",
     "output_type": "stream",
     "text": [
      "SA: Обработка графов:  68%|██████▊   | 135/200 [06:20<03:10,  2.94s/it]"
     ]
    },
    {
     "name": "stdout",
     "output_type": "stream",
     "text": [
      "SA Граф 135: Лучшая энергия = -194.000000\n"
     ]
    },
    {
     "name": "stderr",
     "output_type": "stream",
     "text": [
      "SA: Обработка графов:  68%|██████▊   | 136/200 [06:23<03:08,  2.95s/it]"
     ]
    },
    {
     "name": "stdout",
     "output_type": "stream",
     "text": [
      "SA Граф 136: Лучшая энергия = -220.000000\n"
     ]
    },
    {
     "name": "stderr",
     "output_type": "stream",
     "text": [
      "SA: Обработка графов:  68%|██████▊   | 137/200 [06:26<03:04,  2.93s/it]"
     ]
    },
    {
     "name": "stdout",
     "output_type": "stream",
     "text": [
      "SA Граф 137: Лучшая энергия = -200.000000\n"
     ]
    },
    {
     "name": "stderr",
     "output_type": "stream",
     "text": [
      "SA: Обработка графов:  69%|██████▉   | 138/200 [06:29<03:01,  2.92s/it]"
     ]
    },
    {
     "name": "stdout",
     "output_type": "stream",
     "text": [
      "SA Граф 138: Лучшая энергия = -214.000000\n"
     ]
    },
    {
     "name": "stderr",
     "output_type": "stream",
     "text": [
      "SA: Обработка графов:  70%|██████▉   | 139/200 [06:32<02:57,  2.90s/it]"
     ]
    },
    {
     "name": "stdout",
     "output_type": "stream",
     "text": [
      "SA Граф 139: Лучшая энергия = -202.000000\n"
     ]
    },
    {
     "name": "stderr",
     "output_type": "stream",
     "text": [
      "SA: Обработка графов:  70%|███████   | 140/200 [06:35<02:54,  2.90s/it]"
     ]
    },
    {
     "name": "stdout",
     "output_type": "stream",
     "text": [
      "SA Граф 140: Лучшая энергия = -206.000000\n"
     ]
    },
    {
     "name": "stderr",
     "output_type": "stream",
     "text": [
      "SA: Обработка графов:  70%|███████   | 141/200 [06:37<02:52,  2.92s/it]"
     ]
    },
    {
     "name": "stdout",
     "output_type": "stream",
     "text": [
      "SA Граф 141: Лучшая энергия = -215.000000\n"
     ]
    },
    {
     "name": "stderr",
     "output_type": "stream",
     "text": [
      "SA: Обработка графов:  71%|███████   | 142/200 [06:40<02:49,  2.92s/it]"
     ]
    },
    {
     "name": "stdout",
     "output_type": "stream",
     "text": [
      "SA Граф 142: Лучшая энергия = -201.000000\n"
     ]
    },
    {
     "name": "stderr",
     "output_type": "stream",
     "text": [
      "SA: Обработка графов:  72%|███████▏  | 143/200 [06:43<02:46,  2.92s/it]"
     ]
    },
    {
     "name": "stdout",
     "output_type": "stream",
     "text": [
      "SA Граф 143: Лучшая энергия = -202.000000\n"
     ]
    },
    {
     "name": "stderr",
     "output_type": "stream",
     "text": [
      "SA: Обработка графов:  72%|███████▏  | 144/200 [06:46<02:43,  2.91s/it]"
     ]
    },
    {
     "name": "stdout",
     "output_type": "stream",
     "text": [
      "SA Граф 144: Лучшая энергия = -218.000000\n"
     ]
    },
    {
     "name": "stderr",
     "output_type": "stream",
     "text": [
      "SA: Обработка графов:  72%|███████▎  | 145/200 [06:49<02:42,  2.95s/it]"
     ]
    },
    {
     "name": "stdout",
     "output_type": "stream",
     "text": [
      "SA Граф 145: Лучшая энергия = -208.000000\n"
     ]
    },
    {
     "name": "stderr",
     "output_type": "stream",
     "text": [
      "SA: Обработка графов:  73%|███████▎  | 146/200 [06:52<02:40,  2.97s/it]"
     ]
    },
    {
     "name": "stdout",
     "output_type": "stream",
     "text": [
      "SA Граф 146: Лучшая энергия = -202.000000\n"
     ]
    },
    {
     "name": "stderr",
     "output_type": "stream",
     "text": [
      "SA: Обработка графов:  74%|███████▎  | 147/200 [06:55<02:37,  2.97s/it]"
     ]
    },
    {
     "name": "stdout",
     "output_type": "stream",
     "text": [
      "SA Граф 147: Лучшая энергия = -198.000000\n"
     ]
    },
    {
     "name": "stderr",
     "output_type": "stream",
     "text": [
      "SA: Обработка графов:  74%|███████▍  | 148/200 [06:58<02:37,  3.04s/it]"
     ]
    },
    {
     "name": "stdout",
     "output_type": "stream",
     "text": [
      "SA Граф 148: Лучшая энергия = -201.000000\n"
     ]
    },
    {
     "name": "stderr",
     "output_type": "stream",
     "text": [
      "SA: Обработка графов:  74%|███████▍  | 149/200 [07:01<02:32,  3.00s/it]"
     ]
    },
    {
     "name": "stdout",
     "output_type": "stream",
     "text": [
      "SA Граф 149: Лучшая энергия = -213.000000\n"
     ]
    },
    {
     "name": "stderr",
     "output_type": "stream",
     "text": [
      "SA: Обработка графов:  75%|███████▌  | 150/200 [07:04<02:29,  2.98s/it]"
     ]
    },
    {
     "name": "stdout",
     "output_type": "stream",
     "text": [
      "SA Граф 150: Лучшая энергия = -204.000000\n"
     ]
    },
    {
     "name": "stderr",
     "output_type": "stream",
     "text": [
      "SA: Обработка графов:  76%|███████▌  | 151/200 [07:07<02:25,  2.97s/it]"
     ]
    },
    {
     "name": "stdout",
     "output_type": "stream",
     "text": [
      "SA Граф 151: Лучшая энергия = -194.000000\n"
     ]
    },
    {
     "name": "stderr",
     "output_type": "stream",
     "text": [
      "SA: Обработка графов:  76%|███████▌  | 152/200 [07:10<02:22,  2.96s/it]"
     ]
    },
    {
     "name": "stdout",
     "output_type": "stream",
     "text": [
      "SA Граф 152: Лучшая энергия = -206.000000\n"
     ]
    },
    {
     "name": "stderr",
     "output_type": "stream",
     "text": [
      "SA: Обработка графов:  76%|███████▋  | 153/200 [07:13<02:19,  2.97s/it]"
     ]
    },
    {
     "name": "stdout",
     "output_type": "stream",
     "text": [
      "SA Граф 153: Лучшая энергия = -218.000000\n"
     ]
    },
    {
     "name": "stderr",
     "output_type": "stream",
     "text": [
      "SA: Обработка графов:  77%|███████▋  | 154/200 [07:16<02:15,  2.94s/it]"
     ]
    },
    {
     "name": "stdout",
     "output_type": "stream",
     "text": [
      "SA Граф 154: Лучшая энергия = -206.000000\n"
     ]
    },
    {
     "name": "stderr",
     "output_type": "stream",
     "text": [
      "SA: Обработка графов:  78%|███████▊  | 155/200 [07:19<02:12,  2.95s/it]"
     ]
    },
    {
     "name": "stdout",
     "output_type": "stream",
     "text": [
      "SA Граф 155: Лучшая энергия = -197.000000\n"
     ]
    },
    {
     "name": "stderr",
     "output_type": "stream",
     "text": [
      "SA: Обработка графов:  78%|███████▊  | 156/200 [07:22<02:10,  2.96s/it]"
     ]
    },
    {
     "name": "stdout",
     "output_type": "stream",
     "text": [
      "SA Граф 156: Лучшая энергия = -194.000000\n"
     ]
    },
    {
     "name": "stderr",
     "output_type": "stream",
     "text": [
      "SA: Обработка графов:  78%|███████▊  | 157/200 [07:25<02:07,  2.96s/it]"
     ]
    },
    {
     "name": "stdout",
     "output_type": "stream",
     "text": [
      "SA Граф 157: Лучшая энергия = -196.000000\n"
     ]
    },
    {
     "name": "stderr",
     "output_type": "stream",
     "text": [
      "SA: Обработка графов:  79%|███████▉  | 158/200 [07:28<02:04,  2.96s/it]"
     ]
    },
    {
     "name": "stdout",
     "output_type": "stream",
     "text": [
      "SA Граф 158: Лучшая энергия = -202.000000\n"
     ]
    },
    {
     "name": "stderr",
     "output_type": "stream",
     "text": [
      "SA: Обработка графов:  80%|███████▉  | 159/200 [07:31<02:02,  3.00s/it]"
     ]
    },
    {
     "name": "stdout",
     "output_type": "stream",
     "text": [
      "SA Граф 159: Лучшая энергия = -197.000000\n"
     ]
    },
    {
     "name": "stderr",
     "output_type": "stream",
     "text": [
      "SA: Обработка графов:  80%|████████  | 160/200 [07:34<02:03,  3.10s/it]"
     ]
    },
    {
     "name": "stdout",
     "output_type": "stream",
     "text": [
      "SA Граф 160: Лучшая энергия = -206.000000\n"
     ]
    },
    {
     "name": "stderr",
     "output_type": "stream",
     "text": [
      "SA: Обработка графов:  80%|████████  | 161/200 [07:38<02:02,  3.13s/it]"
     ]
    },
    {
     "name": "stdout",
     "output_type": "stream",
     "text": [
      "SA Граф 161: Лучшая энергия = -207.000000\n"
     ]
    },
    {
     "name": "stderr",
     "output_type": "stream",
     "text": [
      "SA: Обработка графов:  81%|████████  | 162/200 [07:40<01:54,  3.00s/it]"
     ]
    },
    {
     "name": "stdout",
     "output_type": "stream",
     "text": [
      "SA Граф 162: Лучшая энергия = -208.000000\n"
     ]
    },
    {
     "name": "stderr",
     "output_type": "stream",
     "text": [
      "SA: Обработка графов:  82%|████████▏ | 163/200 [07:43<01:47,  2.91s/it]"
     ]
    },
    {
     "name": "stdout",
     "output_type": "stream",
     "text": [
      "SA Граф 163: Лучшая энергия = -203.000000\n"
     ]
    },
    {
     "name": "stderr",
     "output_type": "stream",
     "text": [
      "SA: Обработка графов:  82%|████████▏ | 164/200 [07:46<01:42,  2.85s/it]"
     ]
    },
    {
     "name": "stdout",
     "output_type": "stream",
     "text": [
      "SA Граф 164: Лучшая энергия = -217.000000\n"
     ]
    },
    {
     "name": "stderr",
     "output_type": "stream",
     "text": [
      "SA: Обработка графов:  82%|████████▎ | 165/200 [07:48<01:39,  2.83s/it]"
     ]
    },
    {
     "name": "stdout",
     "output_type": "stream",
     "text": [
      "SA Граф 165: Лучшая энергия = -226.000000\n"
     ]
    },
    {
     "name": "stderr",
     "output_type": "stream",
     "text": [
      "SA: Обработка графов:  83%|████████▎ | 166/200 [07:51<01:35,  2.81s/it]"
     ]
    },
    {
     "name": "stdout",
     "output_type": "stream",
     "text": [
      "SA Граф 166: Лучшая энергия = -207.000000\n"
     ]
    },
    {
     "name": "stderr",
     "output_type": "stream",
     "text": [
      "SA: Обработка графов:  84%|████████▎ | 167/200 [07:54<01:31,  2.78s/it]"
     ]
    },
    {
     "name": "stdout",
     "output_type": "stream",
     "text": [
      "SA Граф 167: Лучшая энергия = -211.000000\n"
     ]
    },
    {
     "name": "stderr",
     "output_type": "stream",
     "text": [
      "SA: Обработка графов:  84%|████████▍ | 168/200 [07:57<01:28,  2.75s/it]"
     ]
    },
    {
     "name": "stdout",
     "output_type": "stream",
     "text": [
      "SA Граф 168: Лучшая энергия = -202.000000\n"
     ]
    },
    {
     "name": "stderr",
     "output_type": "stream",
     "text": [
      "SA: Обработка графов:  84%|████████▍ | 169/200 [07:59<01:24,  2.73s/it]"
     ]
    },
    {
     "name": "stdout",
     "output_type": "stream",
     "text": [
      "SA Граф 169: Лучшая энергия = -196.000000\n"
     ]
    },
    {
     "name": "stderr",
     "output_type": "stream",
     "text": [
      "SA: Обработка графов:  85%|████████▌ | 170/200 [08:02<01:22,  2.73s/it]"
     ]
    },
    {
     "name": "stdout",
     "output_type": "stream",
     "text": [
      "SA Граф 170: Лучшая энергия = -204.000000\n"
     ]
    },
    {
     "name": "stderr",
     "output_type": "stream",
     "text": [
      "SA: Обработка графов:  86%|████████▌ | 171/200 [08:05<01:19,  2.73s/it]"
     ]
    },
    {
     "name": "stdout",
     "output_type": "stream",
     "text": [
      "SA Граф 171: Лучшая энергия = -204.000000\n"
     ]
    },
    {
     "name": "stderr",
     "output_type": "stream",
     "text": [
      "SA: Обработка графов:  86%|████████▌ | 172/200 [08:07<01:16,  2.72s/it]"
     ]
    },
    {
     "name": "stdout",
     "output_type": "stream",
     "text": [
      "SA Граф 172: Лучшая энергия = -212.000000\n"
     ]
    },
    {
     "name": "stderr",
     "output_type": "stream",
     "text": [
      "SA: Обработка графов:  86%|████████▋ | 173/200 [08:10<01:13,  2.71s/it]"
     ]
    },
    {
     "name": "stdout",
     "output_type": "stream",
     "text": [
      "SA Граф 173: Лучшая энергия = -215.000000\n"
     ]
    },
    {
     "name": "stderr",
     "output_type": "stream",
     "text": [
      "SA: Обработка графов:  87%|████████▋ | 174/200 [08:13<01:10,  2.72s/it]"
     ]
    },
    {
     "name": "stdout",
     "output_type": "stream",
     "text": [
      "SA Граф 174: Лучшая энергия = -220.000000\n"
     ]
    },
    {
     "name": "stderr",
     "output_type": "stream",
     "text": [
      "SA: Обработка графов:  88%|████████▊ | 175/200 [08:16<01:08,  2.73s/it]"
     ]
    },
    {
     "name": "stdout",
     "output_type": "stream",
     "text": [
      "SA Граф 175: Лучшая энергия = -224.000000\n"
     ]
    },
    {
     "name": "stderr",
     "output_type": "stream",
     "text": [
      "SA: Обработка графов:  88%|████████▊ | 176/200 [08:18<01:04,  2.70s/it]"
     ]
    },
    {
     "name": "stdout",
     "output_type": "stream",
     "text": [
      "SA Граф 176: Лучшая энергия = -209.000000\n"
     ]
    },
    {
     "name": "stderr",
     "output_type": "stream",
     "text": [
      "SA: Обработка графов:  88%|████████▊ | 177/200 [08:21<01:02,  2.70s/it]"
     ]
    },
    {
     "name": "stdout",
     "output_type": "stream",
     "text": [
      "SA Граф 177: Лучшая энергия = -204.000000\n"
     ]
    },
    {
     "name": "stderr",
     "output_type": "stream",
     "text": [
      "SA: Обработка графов:  89%|████████▉ | 178/200 [08:24<00:59,  2.69s/it]"
     ]
    },
    {
     "name": "stdout",
     "output_type": "stream",
     "text": [
      "SA Граф 178: Лучшая энергия = -213.000000\n"
     ]
    },
    {
     "name": "stderr",
     "output_type": "stream",
     "text": [
      "SA: Обработка графов:  90%|████████▉ | 179/200 [08:26<00:56,  2.68s/it]"
     ]
    },
    {
     "name": "stdout",
     "output_type": "stream",
     "text": [
      "SA Граф 179: Лучшая энергия = -197.000000\n"
     ]
    },
    {
     "name": "stderr",
     "output_type": "stream",
     "text": [
      "SA: Обработка графов:  90%|█████████ | 180/200 [08:29<00:53,  2.67s/it]"
     ]
    },
    {
     "name": "stdout",
     "output_type": "stream",
     "text": [
      "SA Граф 180: Лучшая энергия = -210.000000\n"
     ]
    },
    {
     "name": "stderr",
     "output_type": "stream",
     "text": [
      "SA: Обработка графов:  90%|█████████ | 181/200 [08:32<00:50,  2.68s/it]"
     ]
    },
    {
     "name": "stdout",
     "output_type": "stream",
     "text": [
      "SA Граф 181: Лучшая энергия = -202.000000\n"
     ]
    },
    {
     "name": "stderr",
     "output_type": "stream",
     "text": [
      "SA: Обработка графов:  91%|█████████ | 182/200 [08:34<00:48,  2.69s/it]"
     ]
    },
    {
     "name": "stdout",
     "output_type": "stream",
     "text": [
      "SA Граф 182: Лучшая энергия = -202.000000\n"
     ]
    },
    {
     "name": "stderr",
     "output_type": "stream",
     "text": [
      "SA: Обработка графов:  92%|█████████▏| 183/200 [08:37<00:45,  2.69s/it]"
     ]
    },
    {
     "name": "stdout",
     "output_type": "stream",
     "text": [
      "SA Граф 183: Лучшая энергия = -189.000000\n"
     ]
    },
    {
     "name": "stderr",
     "output_type": "stream",
     "text": [
      "SA: Обработка графов:  92%|█████████▏| 184/200 [08:40<00:42,  2.68s/it]"
     ]
    },
    {
     "name": "stdout",
     "output_type": "stream",
     "text": [
      "SA Граф 184: Лучшая энергия = -217.000000\n"
     ]
    },
    {
     "name": "stderr",
     "output_type": "stream",
     "text": [
      "SA: Обработка графов:  92%|█████████▎| 185/200 [08:42<00:40,  2.68s/it]"
     ]
    },
    {
     "name": "stdout",
     "output_type": "stream",
     "text": [
      "SA Граф 185: Лучшая энергия = -195.000000\n"
     ]
    },
    {
     "name": "stderr",
     "output_type": "stream",
     "text": [
      "SA: Обработка графов:  93%|█████████▎| 186/200 [08:45<00:37,  2.68s/it]"
     ]
    },
    {
     "name": "stdout",
     "output_type": "stream",
     "text": [
      "SA Граф 186: Лучшая энергия = -211.000000\n"
     ]
    },
    {
     "name": "stderr",
     "output_type": "stream",
     "text": [
      "SA: Обработка графов:  94%|█████████▎| 187/200 [08:48<00:34,  2.68s/it]"
     ]
    },
    {
     "name": "stdout",
     "output_type": "stream",
     "text": [
      "SA Граф 187: Лучшая энергия = -198.000000\n"
     ]
    },
    {
     "name": "stderr",
     "output_type": "stream",
     "text": [
      "SA: Обработка графов:  94%|█████████▍| 188/200 [08:50<00:32,  2.67s/it]"
     ]
    },
    {
     "name": "stdout",
     "output_type": "stream",
     "text": [
      "SA Граф 188: Лучшая энергия = -200.000000\n"
     ]
    },
    {
     "name": "stderr",
     "output_type": "stream",
     "text": [
      "SA: Обработка графов:  94%|█████████▍| 189/200 [08:53<00:29,  2.68s/it]"
     ]
    },
    {
     "name": "stdout",
     "output_type": "stream",
     "text": [
      "SA Граф 189: Лучшая энергия = -199.000000\n"
     ]
    },
    {
     "name": "stderr",
     "output_type": "stream",
     "text": [
      "SA: Обработка графов:  95%|█████████▌| 190/200 [08:56<00:26,  2.69s/it]"
     ]
    },
    {
     "name": "stdout",
     "output_type": "stream",
     "text": [
      "SA Граф 190: Лучшая энергия = -199.000000\n"
     ]
    },
    {
     "name": "stderr",
     "output_type": "stream",
     "text": [
      "SA: Обработка графов:  96%|█████████▌| 191/200 [08:58<00:24,  2.69s/it]"
     ]
    },
    {
     "name": "stdout",
     "output_type": "stream",
     "text": [
      "SA Граф 191: Лучшая энергия = -205.000000\n"
     ]
    },
    {
     "name": "stderr",
     "output_type": "stream",
     "text": [
      "SA: Обработка графов:  96%|█████████▌| 192/200 [09:01<00:21,  2.69s/it]"
     ]
    },
    {
     "name": "stdout",
     "output_type": "stream",
     "text": [
      "SA Граф 192: Лучшая энергия = -214.000000\n"
     ]
    },
    {
     "name": "stderr",
     "output_type": "stream",
     "text": [
      "SA: Обработка графов:  96%|█████████▋| 193/200 [09:04<00:18,  2.71s/it]"
     ]
    },
    {
     "name": "stdout",
     "output_type": "stream",
     "text": [
      "SA Граф 193: Лучшая энергия = -202.000000\n"
     ]
    },
    {
     "name": "stderr",
     "output_type": "stream",
     "text": [
      "SA: Обработка графов:  97%|█████████▋| 194/200 [09:07<00:16,  2.71s/it]"
     ]
    },
    {
     "name": "stdout",
     "output_type": "stream",
     "text": [
      "SA Граф 194: Лучшая энергия = -211.000000\n"
     ]
    },
    {
     "name": "stderr",
     "output_type": "stream",
     "text": [
      "SA: Обработка графов:  98%|█████████▊| 195/200 [09:09<00:13,  2.71s/it]"
     ]
    },
    {
     "name": "stdout",
     "output_type": "stream",
     "text": [
      "SA Граф 195: Лучшая энергия = -206.000000\n"
     ]
    },
    {
     "name": "stderr",
     "output_type": "stream",
     "text": [
      "SA: Обработка графов:  98%|█████████▊| 196/200 [09:12<00:10,  2.70s/it]"
     ]
    },
    {
     "name": "stdout",
     "output_type": "stream",
     "text": [
      "SA Граф 196: Лучшая энергия = -195.000000\n"
     ]
    },
    {
     "name": "stderr",
     "output_type": "stream",
     "text": [
      "SA: Обработка графов:  98%|█████████▊| 197/200 [09:15<00:08,  2.69s/it]"
     ]
    },
    {
     "name": "stdout",
     "output_type": "stream",
     "text": [
      "SA Граф 197: Лучшая энергия = -208.000000\n"
     ]
    },
    {
     "name": "stderr",
     "output_type": "stream",
     "text": [
      "SA: Обработка графов:  99%|█████████▉| 198/200 [09:17<00:05,  2.70s/it]"
     ]
    },
    {
     "name": "stdout",
     "output_type": "stream",
     "text": [
      "SA Граф 198: Лучшая энергия = -196.000000\n"
     ]
    },
    {
     "name": "stderr",
     "output_type": "stream",
     "text": [
      "SA: Обработка графов: 100%|█████████▉| 199/200 [09:20<00:02,  2.72s/it]"
     ]
    },
    {
     "name": "stdout",
     "output_type": "stream",
     "text": [
      "SA Граф 199: Лучшая энергия = -209.000000\n"
     ]
    },
    {
     "name": "stderr",
     "output_type": "stream",
     "text": [
      "SA: Обработка графов: 100%|██████████| 200/200 [09:23<00:00,  2.82s/it]"
     ]
    },
    {
     "name": "stdout",
     "output_type": "stream",
     "text": [
      "SA Граф 200: Лучшая энергия = -207.000000\n",
      "\n",
      "SA Средняя энергия: -205.255000\n"
     ]
    },
    {
     "name": "stderr",
     "output_type": "stream",
     "text": [
      "\n"
     ]
    }
   ],
   "source": [
    "# Simulated Annealing with tabu, reheating, and occasional 2-spin moves\n",
    "import numpy as np\n",
    "\n",
    "class SimulatedAnnealingAgent:\n",
    "    def __init__(self, env, seed=None,\n",
    "                 initial_temp=3.0, final_temp=0.02, alpha=0.997,\n",
    "                 tabu_tenure=10, pair_move_prob=0.15,\n",
    "                 top_k=None, reheating_factor=1.5, stagnation_patience=250):\n",
    "        self.env = env\n",
    "        self.rng = np.random.RandomState(seed)\n",
    "        self.N = env.N\n",
    "        self.temperature = initial_temp\n",
    "        self.initial_temp = initial_temp\n",
    "        self.final_temp = final_temp\n",
    "        self.alpha = alpha\n",
    "        self.tabu_tenure = tabu_tenure\n",
    "        self.tabu = np.zeros(self.N, dtype=int)\n",
    "        self.pair_move_prob = pair_move_prob\n",
    "        self.top_k = self.N if top_k is None else min(top_k, self.N)\n",
    "        self.reheating_factor = reheating_factor\n",
    "        self.stagnation_patience = stagnation_patience\n",
    "        self.steps_since_improve = 0\n",
    "        self.best_energy_seen = env.best_energy\n",
    "    \n",
    "    def decay_temp(self):\n",
    "        self.temperature = max(self.final_temp, self.temperature * self.alpha)\n",
    "    \n",
    "    def reheat_if_needed(self):\n",
    "        if self.steps_since_improve >= self.stagnation_patience:\n",
    "            self.temperature = min(self.initial_temp, self.temperature * self.reheating_factor)\n",
    "            self.steps_since_improve = 0\n",
    "    \n",
    "    def compute_deltas(self):\n",
    "        return np.array([self.env.delta_energy_if_flip(i) for i in range(self.N)], dtype=float)\n",
    "    \n",
    "    def two_flip_delta(self, i, j):\n",
    "        s = self.env.state\n",
    "        h_i = np.dot(self.env.J[i], s)\n",
    "        h_j = np.dot(self.env.J[j], s)\n",
    "        return 2*s[i]*h_i + 2*s[j]*h_j - 4*self.env.J[i, j]*s[i]*s[j]\n",
    "    \n",
    "    def step(self):\n",
    "        deltas = self.compute_deltas()\n",
    "        aspiration = (self.env.energy + deltas.min()) < self.env.best_energy\n",
    "        allowed = self.tabu <= 0\n",
    "        if not aspiration:\n",
    "            candidates = np.where(allowed)[0]\n",
    "        else:\n",
    "            candidates = np.arange(self.N)\n",
    "        if candidates.size == 0:\n",
    "            candidates = np.arange(self.N)\n",
    "        # focus top-k best deltas\n",
    "        order = np.argsort(deltas[candidates])\n",
    "        k = min(self.top_k, candidates.size)\n",
    "        cand = candidates[order[:k]]\n",
    "        # softmax over -ΔE / T\n",
    "        scaled = -deltas[cand] / max(1e-9, self.temperature)\n",
    "        scaled -= scaled.max()\n",
    "        probs = np.exp(scaled)\n",
    "        probs /= probs.sum()\n",
    "        i = int(self.rng.choice(cand, p=probs))\n",
    "        # maybe try 2-spin move if stuck or by probability\n",
    "        do_pair = (self.rng.rand() < self.pair_move_prob) or (not aspiration and deltas.min() >= 0)\n",
    "        if do_pair and self.N >= 2:\n",
    "            subset = cand\n",
    "            if subset.size < 2:\n",
    "                subset = np.arange(self.N)\n",
    "            best_pair = None\n",
    "            best_pair_delta = np.inf\n",
    "            for j in subset[:min(32, subset.size)]:\n",
    "                if j == i:\n",
    "                    continue\n",
    "                if not aspiration and (self.tabu[j] > 0):\n",
    "                    continue\n",
    "                d2 = self.two_flip_delta(i, j)\n",
    "                if d2 < best_pair_delta:\n",
    "                    best_pair_delta = d2\n",
    "                    best_pair = j\n",
    "            if best_pair is not None:\n",
    "                accept = (best_pair_delta < 0) or (self.rng.rand() < np.exp(-best_pair_delta / max(1e-9, self.temperature)))\n",
    "                if accept:\n",
    "                    self.env.flip_spin(i)\n",
    "                    self.env.flip_spin(best_pair)\n",
    "                    self.tabu[i] = self.tabu_tenure\n",
    "                    self.tabu[best_pair] = self.tabu_tenure\n",
    "                    improved = self.env.energy < self.best_energy_seen - 1e-12\n",
    "                    self.best_energy_seen = min(self.best_energy_seen, self.env.energy)\n",
    "                    self.steps_since_improve = 0 if improved else self.steps_since_improve + 1\n",
    "                    self.tabu -= 1\n",
    "                    self.decay_temp()\n",
    "                    self.reheat_if_needed()\n",
    "                    return\n",
    "        # single flip Metropolis\n",
    "        d = deltas[i]\n",
    "        accept = (d < 0) or (self.rng.rand() < np.exp(-d / max(1e-9, self.temperature)))\n",
    "        if accept:\n",
    "            self.env.flip_spin(i)\n",
    "            self.tabu[i] = self.tabu_tenure\n",
    "            improved = self.env.energy < self.best_energy_seen - 1e-12\n",
    "            self.best_energy_seen = min(self.best_energy_seen, self.env.energy)\n",
    "            self.steps_since_improve = 0 if improved else self.steps_since_improve + 1\n",
    "        else:\n",
    "            self.steps_since_improve += 1\n",
    "        self.tabu -= 1\n",
    "        self.decay_temp()\n",
    "        self.reheat_if_needed()\n",
    "    \n",
    "    def run(self, steps):\n",
    "        for _ in range(steps):\n",
    "            self.step()\n",
    "    \n",
    "    def greedy_polish(self, max_steps=500):\n",
    "        for _ in range(max_steps):\n",
    "            deltas = self.compute_deltas()\n",
    "            i = int(np.argmin(deltas))\n",
    "            if deltas[i] < -1e-12:\n",
    "                self.env.flip_spin(i)\n",
    "            else:\n",
    "                break\n",
    "\n",
    "# Run SA on all graphs\n",
    "if __name__ == \"__main__\":\n",
    "    import numpy as np\n",
    "    from tqdm import tqdm\n",
    "\n",
    "    J_all = np.load(\"test_matrices.npy\")\n",
    "    sa_spins = []\n",
    "    sa_energies = []\n",
    "    base_seed = 42\n",
    "\n",
    "    for idx, J in enumerate(tqdm(J_all, desc=\"SA: Обработка графов\")):\n",
    "        graph_seed = base_seed + idx\n",
    "        env = IsingEnvironment(J, seed=graph_seed)\n",
    "        best_energy_run = np.inf\n",
    "        best_state_run = None\n",
    "\n",
    "        num_restarts = 6\n",
    "        steps_per_restart = max(3000, 60 * env.N)\n",
    "        for r in range(num_restarts):\n",
    "            # random restart\n",
    "            env.state = env.rng.choice([-1, 1], size=env.N)\n",
    "            env.energy = env.calculate_energy(env.state)\n",
    "            env.no_improvement_streak = 0\n",
    "            env.best_state = env.state.copy()\n",
    "            env.best_energy = env.energy\n",
    "\n",
    "            sa = SimulatedAnnealingAgent(\n",
    "                env,\n",
    "                seed=graph_seed + r,\n",
    "                initial_temp=3.0,\n",
    "                final_temp=0.02,\n",
    "                alpha=0.997,\n",
    "                tabu_tenure=10,\n",
    "                pair_move_prob=0.2,\n",
    "                top_k=max(8, env.N // 4),\n",
    "                reheating_factor=1.6,\n",
    "                stagnation_patience=max(200, 5 * env.N)\n",
    "            )\n",
    "\n",
    "            sa.run(steps_per_restart)\n",
    "            sa.greedy_polish(max_steps=3 * env.N)\n",
    "\n",
    "            if env.best_energy < best_energy_run:\n",
    "                best_energy_run = env.best_energy\n",
    "                best_state_run = env.get_best_state()\n",
    "\n",
    "        sa_spins.append(best_state_run)\n",
    "        sa_energies.append(best_energy_run)\n",
    "        print(f\"SA Граф {idx+1}: Лучшая энергия = {best_energy_run:.6f}\")\n",
    "\n",
    "    sa_mean_energy = float(np.mean(sa_energies))\n",
    "    print(f\"\\nSA Средняя энергия: {sa_mean_energy:.6f}\")\n"
   ]
  },
  {
   "cell_type": "code",
   "execution_count": null,
   "metadata": {},
   "outputs": [],
   "source": [
    "header=','.join(str(i) for i in range(1, 51))\n",
    "pd.DataFrame(sa_spins).to_csv(\"spins.csv\", index=False, header=header)\n",
    "pd.DataFrame(sa_energies, columns=[\"Energy\"]).to_csv(\"energies.csv\", index=False)"
   ]
  }
 ],
 "metadata": {
  "kernelspec": {
   "display_name": "Python 3",
   "language": "python",
   "name": "python3"
  },
  "language_info": {
   "codemirror_mode": {
    "name": "ipython",
    "version": 3
   },
   "file_extension": ".py",
   "mimetype": "text/x-python",
   "name": "python",
   "nbconvert_exporter": "python",
   "pygments_lexer": "ipython3",
   "version": "3.12.9"
  }
 },
 "nbformat": 4,
 "nbformat_minor": 2
}
